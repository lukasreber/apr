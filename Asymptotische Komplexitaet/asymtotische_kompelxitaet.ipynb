{
 "cells": [
  {
   "cell_type": "code",
   "execution_count": 3,
   "metadata": {},
   "outputs": [
    {
     "ename": "TypeError",
     "evalue": "'int' object is not subscriptable",
     "output_type": "error",
     "traceback": [
      "\u001b[0;31m---------------------------------------------------------------------------\u001b[0m",
      "\u001b[0;31mTypeError\u001b[0m                                 Traceback (most recent call last)",
      "Cell \u001b[0;32mIn [3], line 10\u001b[0m\n\u001b[1;32m      8\u001b[0m     s \u001b[38;5;241m=\u001b[39m \u001b[38;5;241m0\u001b[39m\n\u001b[1;32m      9\u001b[0m     \u001b[38;5;28;01mfor\u001b[39;00m k \u001b[38;5;129;01min\u001b[39;00m \u001b[38;5;28mrange\u001b[39m(\u001b[38;5;28mlen\u001b[39m(m2)):\n\u001b[0;32m---> 10\u001b[0m         s \u001b[38;5;241m+\u001b[39m\u001b[38;5;241m=\u001b[39m m1[i][k] \u001b[38;5;241m*\u001b[39m m2[k][j]\n\u001b[1;32m     11\u001b[0m     row\u001b[38;5;241m.\u001b[39mappend(s)\n\u001b[1;32m     12\u001b[0m mul_mat\u001b[38;5;241m.\u001b[39mappend(row)\n",
      "\u001b[0;31mTypeError\u001b[0m: 'int' object is not subscriptable"
     ]
    }
   ],
   "source": [
    "m1= [1]\n",
    "m2 = [[1]]\n",
    "\n",
    "mul_mat = []\n",
    "for i in range(len(m1)):\n",
    "    row = []\n",
    "    for j in range(len(m2[0])):\n",
    "        s = 0\n",
    "        for k in range(len(m2)):\n",
    "            s += m1[i][k] * m2[k][j]\n",
    "        row.append(s)\n",
    "    mul_mat.append(row)"
   ]
  },
  {
   "cell_type": "code",
   "execution_count": null,
   "metadata": {},
   "outputs": [],
   "source": []
  }
 ],
 "metadata": {
  "kernelspec": {
   "display_name": "Python 3.9.6 ('apr': venv)",
   "language": "python",
   "name": "python3"
  },
  "language_info": {
   "codemirror_mode": {
    "name": "ipython",
    "version": 3
   },
   "file_extension": ".py",
   "mimetype": "text/x-python",
   "name": "python",
   "nbconvert_exporter": "python",
   "pygments_lexer": "ipython3",
   "version": "3.9.6"
  },
  "orig_nbformat": 4,
  "vscode": {
   "interpreter": {
    "hash": "6b9b9ffe161502460e96cc99d9ad3a3cd628cb0d5ac97f8d40dd9ddb12c81464"
   }
  }
 },
 "nbformat": 4,
 "nbformat_minor": 2
}
