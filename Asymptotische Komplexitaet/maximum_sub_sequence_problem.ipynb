{
 "cells": [
  {
   "cell_type": "markdown",
   "metadata": {},
   "source": [
    "**Maximum Sub Sequence Problem**\n",
    "\n",
    "Gegeben ist eine Liste welche die z.B. die Kursschwankungen einer Aktie fürht. Um den bestmöglichen Kauf- und Verkaufszeitpunkt zu berechnen, muss also das Maximum aus den Summen, die sich aus allen möglichen Kombinationen von  Start- und End-Indizes ergeben, berechnet werden."
   ]
  },
  {
   "cell_type": "code",
   "execution_count": 1,
   "metadata": {},
   "outputs": [],
   "source": [
    "import random\n",
    "import time"
   ]
  },
  {
   "cell_type": "code",
   "execution_count": 2,
   "metadata": {},
   "outputs": [],
   "source": [
    "def findmax(l):\n",
    "    res = []\n",
    "    for i in range(len(l)):\n",
    "        for j in range(i,len(l)):\n",
    "            res.append(l[j]-l[i])\n",
    "    return(max(res))"
   ]
  },
  {
   "cell_type": "markdown",
   "metadata": {},
   "source": [
    "Nachdem ich verschiedene Lösungsansätze versucht habe bin ich auf die Funktion oben gekommen. Diese sollte eigentlich mehr oder weniger der mathematischen Funktion auf dem Aufgabenblatt entsprechen. Ich gehe davon aus, dass durch die Verwendung von zwei for-Schleifen, das ganze bei grösseren Listen nicht mehr sehr performant sein wird."
   ]
  },
  {
   "cell_type": "code",
   "execution_count": 3,
   "metadata": {},
   "outputs": [
    {
     "data": {
      "text/plain": [
       "150"
      ]
     },
     "execution_count": 3,
     "metadata": {},
     "output_type": "execute_result"
    }
   ],
   "source": [
    "# Beispiel aus Aufgabenblatt\n",
    "findmax([31, -41, 59, 26, -53, 58, 97, -93, -23])"
   ]
  },
  {
   "cell_type": "code",
   "execution_count": 4,
   "metadata": {},
   "outputs": [
    {
     "data": {
      "text/plain": [
       "0"
      ]
     },
     "execution_count": 4,
     "metadata": {},
     "output_type": "execute_result"
    }
   ],
   "source": [
    "# Beispiel, bei dem ein Gewinn möglich ist, da Wert immer sinkt\n",
    "# da wir auch den gewinn berechnen wenn verkauf und zum selben zeitpunkt verkauft wird (was immer 0 ist),\n",
    "# ist dies somit der höchste gewinn\n",
    "findmax([100, 91, 82 , 73, 64, 55, 46, 37, 28, 19])"
   ]
  },
  {
   "cell_type": "code",
   "execution_count": 5,
   "metadata": {},
   "outputs": [
    {
     "data": {
      "text/plain": [
       "3445333"
      ]
     },
     "execution_count": 5,
     "metadata": {},
     "output_type": "execute_result"
    }
   ],
   "source": [
    "findmax([12,24,35,46,57,68,79,984,2345,546456,3445345])"
   ]
  },
  {
   "cell_type": "code",
   "execution_count": 9,
   "metadata": {},
   "outputs": [
    {
     "name": "stdout",
     "output_type": "stream",
     "text": [
      "[-63, 13, -88, -42, 73, 12, 67, 28, -82, 62, 63, -2, 9, 65, 53, -33, -60, 31, -54, -39]\n"
     ]
    },
    {
     "data": {
      "text/plain": [
       "161"
      ]
     },
     "execution_count": 9,
     "metadata": {},
     "output_type": "execute_result"
    }
   ],
   "source": [
    "# beliebige beispiele gleicher länge\n",
    "sample = random.sample(range(-100,100),20)\n",
    "print(sample)\n",
    "findmax(sample)"
   ]
  },
  {
   "cell_type": "markdown",
   "metadata": {},
   "source": [
    "**Wie kann man diese Funktion testen?**\n",
    "\n",
    "Verschiedene Listen (grösse der Liste  und Werte) auf die Funktion anwenden. Das Funktion sollte \n",
    "1. Kein Fehler ausgeben\n",
    "2. Die richtige (höchste) Summe wird ausgegeben\n",
    "\n",
    "**Welche Situationen sollte man testen?**\n",
    "\n",
    "- Beliebige Liste\n",
    "- Nur Werte welche immer mehr ins negative gehen\n",
    "- Werte welche immer mehr in positive gehen\n",
    "- Werte die immer gleich bleiben\n",
    "- Liste mit nur 0\n",
    "- Leere Liste\n",
    "\n",
    "\n",
    "**Funktioniert die Funktion in allen Fällen korrekt?**\n",
    "\n",
    "Soweit ja"
   ]
  },
  {
   "cell_type": "code",
   "execution_count": 68,
   "metadata": {},
   "outputs": [],
   "source": [
    "# Laufzeit messen\n",
    "\n",
    "def findmax_time(n,repeats):\n",
    "    i = 0\n",
    "    duration = 0\n",
    "    while i < repeats:\n",
    "        sample = random.sample(range(-1000000,1000000),n)\n",
    "\n",
    "        start = time.time()\n",
    "        res = findmax(sample)\n",
    "        duration = duration + time.time() - start\n",
    "        i = i + 1\n",
    "    return duration/repeats\n",
    "    \n"
   ]
  },
  {
   "cell_type": "code",
   "execution_count": 77,
   "metadata": {},
   "outputs": [
    {
     "data": {
      "text/plain": [
       "7.3552131652832035e-06"
      ]
     },
     "execution_count": 77,
     "metadata": {},
     "output_type": "execute_result"
    }
   ],
   "source": [
    "findmax_time(9,100)"
   ]
  },
  {
   "cell_type": "code",
   "execution_count": 79,
   "metadata": {},
   "outputs": [
    {
     "data": {
      "text/plain": [
       "2.3107528686523438e-05"
      ]
     },
     "execution_count": 79,
     "metadata": {},
     "output_type": "execute_result"
    }
   ],
   "source": [
    "findmax_time(20,100)"
   ]
  },
  {
   "cell_type": "code",
   "execution_count": 80,
   "metadata": {},
   "outputs": [
    {
     "data": {
      "text/plain": [
       "0.00045601129531860354"
      ]
     },
     "execution_count": 80,
     "metadata": {},
     "output_type": "execute_result"
    }
   ],
   "source": [
    "findmax_time(100,100)"
   ]
  },
  {
   "cell_type": "code",
   "execution_count": 81,
   "metadata": {},
   "outputs": [
    {
     "data": {
      "text/plain": [
       "0.04106937646865845"
      ]
     },
     "execution_count": 81,
     "metadata": {},
     "output_type": "execute_result"
    }
   ],
   "source": [
    "findmax_time(1000,100)"
   ]
  },
  {
   "cell_type": "code",
   "execution_count": 83,
   "metadata": {},
   "outputs": [
    {
     "data": {
      "text/plain": [
       "0.16994285106658935"
      ]
     },
     "execution_count": 83,
     "metadata": {},
     "output_type": "execute_result"
    }
   ],
   "source": [
    "findmax_time(2000,100)"
   ]
  },
  {
   "cell_type": "code",
   "execution_count": 84,
   "metadata": {},
   "outputs": [
    {
     "data": {
      "text/plain": [
       "0.6696550083160401"
      ]
     },
     "execution_count": 84,
     "metadata": {},
     "output_type": "execute_result"
    }
   ],
   "source": [
    "findmax_time(4000,100)"
   ]
  },
  {
   "cell_type": "markdown",
   "metadata": {},
   "source": [
    "Die Laufzeit zu den Anzahl Elementen in der Liste ist nicht linear. 2000 Elemente benötigen 0.17 Sekunden, wobei die doppelte Listengrösse, also 4000 Elemente bereits 0.67 Sekunden benötigt, also etwa 4x so lange."
   ]
  }
 ],
 "metadata": {
  "interpreter": {
   "hash": "6b9b9ffe161502460e96cc99d9ad3a3cd628cb0d5ac97f8d40dd9ddb12c81464"
  },
  "kernelspec": {
   "display_name": "Python 3.8.9 ('apr': venv)",
   "language": "python",
   "name": "python3"
  },
  "language_info": {
   "codemirror_mode": {
    "name": "ipython",
    "version": 3
   },
   "file_extension": ".py",
   "mimetype": "text/x-python",
   "name": "python",
   "nbconvert_exporter": "python",
   "pygments_lexer": "ipython3",
   "version": "3.8.9"
  },
  "orig_nbformat": 4
 },
 "nbformat": 4,
 "nbformat_minor": 2
}
