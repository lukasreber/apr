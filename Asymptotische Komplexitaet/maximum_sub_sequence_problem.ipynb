{
 "cells": [
  {
   "cell_type": "markdown",
   "metadata": {},
   "source": [
    "**Maximum Sub Sequence Problem**\n",
    "\n",
    "Gegeben ist eine Liste welche die z.B. die Kursschwankungen einer Aktie fürht. Um den bestmöglichen Kauf- und Verkaufszeitpunkt zu berechnen, muss also das Maximum aus den Summen, die sich aus allen möglichen Kombinationen von  Start- und End-Indizes ergeben, berechnet werden."
   ]
  },
  {
   "cell_type": "code",
   "execution_count": 1,
   "metadata": {},
   "outputs": [],
   "source": [
    "import random\n",
    "import time"
   ]
  },
  {
   "cell_type": "code",
   "execution_count": 2,
   "metadata": {},
   "outputs": [],
   "source": [
    "def findmax(l):\n",
    "    res = []\n",
    "    for i in range(len(l)):\n",
    "        for j in range(i,len(l)):\n",
    "            res.append(l[j]-l[i])\n",
    "    return(max(res))"
   ]
  },
  {
   "cell_type": "markdown",
   "metadata": {},
   "source": [
    "Nachdem ich verschiedene Lösungsansätze versucht habe bin ich auf die Funktion oben gekommen. Diese sollte eigentlich mehr oder weniger der mathematischen Funktion auf dem Aufgabenblatt entsprechen. Ich gehe davon aus, dass durch die Verwendung von zwei for-Schleifen, das ganze bei grösseren Listen nicht mehr sehr performant sein wird."
   ]
  },
  {
   "cell_type": "code",
   "execution_count": 3,
   "metadata": {},
   "outputs": [
    {
     "data": {
      "text/plain": [
       "150"
      ]
     },
     "execution_count": 3,
     "metadata": {},
     "output_type": "execute_result"
    }
   ],
   "source": [
    "# Beispiel aus Aufgabenblatt\n",
    "findmax([31, -41, 59, 26, -53, 58, 97, -93, -23])"
   ]
  },
  {
   "cell_type": "code",
   "execution_count": 4,
   "metadata": {},
   "outputs": [
    {
     "data": {
      "text/plain": [
       "0"
      ]
     },
     "execution_count": 4,
     "metadata": {},
     "output_type": "execute_result"
    }
   ],
   "source": [
    "# Beispiel, bei dem ein Gewinn möglich ist, da Wert immer sinkt\n",
    "# da wir auch den gewinn berechnen wenn verkauf und zum selben zeitpunkt verkauft wird (was immer 0 ist),\n",
    "# ist dies somit der höchste gewinn\n",
    "findmax([100, 91, 82 , 73, 64, 55, 46, 37, 28, 19])"
   ]
  },
  {
   "cell_type": "code",
   "execution_count": 5,
   "metadata": {},
   "outputs": [
    {
     "data": {
      "text/plain": [
       "3445333"
      ]
     },
     "execution_count": 5,
     "metadata": {},
     "output_type": "execute_result"
    }
   ],
   "source": [
    "findmax([12,24,35,46,57,68,79,984,2345,546456,3445345])"
   ]
  },
  {
   "cell_type": "code",
   "execution_count": 9,
   "metadata": {},
   "outputs": [
    {
     "name": "stdout",
     "output_type": "stream",
     "text": [
      "[-63, 13, -88, -42, 73, 12, 67, 28, -82, 62, 63, -2, 9, 65, 53, -33, -60, 31, -54, -39]\n"
     ]
    },
    {
     "data": {
      "text/plain": [
       "161"
      ]
     },
     "execution_count": 9,
     "metadata": {},
     "output_type": "execute_result"
    }
   ],
   "source": [
    "# beliebige beispiele gleicher länge\n",
    "sample = random.sample(range(-100,100),20)\n",
    "print(sample)\n",
    "findmax(sample)"
   ]
  },
  {
   "cell_type": "markdown",
   "metadata": {},
   "source": [
    "**Wie kann man diese Funktion testen?**\n",
    "\n",
    "Verschiedene Listen (grösse der Liste  und Werte) auf die Funktion anwenden. Das Funktion sollte \n",
    "1. Kein Fehler ausgeben\n",
    "2. Die richtige (höchste) Summe wird ausgegeben\n",
    "\n",
    "**Welche Situationen sollte man testen?**\n",
    "\n",
    "- Beliebige Liste\n",
    "- Nur Werte welche immer mehr ins negative gehen\n",
    "- Werte welche immer mehr in positive gehen\n",
    "- Werte die immer gleich bleiben\n",
    "- Liste mit nur 0\n",
    "- Leere Liste\n",
    "\n",
    "\n",
    "**Funktioniert die Funktion in allen Fällen korrekt?**\n",
    "\n",
    "Soweit ja"
   ]
  },
  {
   "cell_type": "code",
   "execution_count": 68,
   "metadata": {},
   "outputs": [],
   "source": [
    "# Laufzeit messen\n",
    "\n",
    "def findmax_time(n,repeats):\n",
    "    i = 0\n",
    "    duration = 0\n",
    "    while i < repeats:\n",
    "        sample = random.sample(range(-1000000,1000000),n)\n",
    "\n",
    "        start = time.time()\n",
    "        res = findmax(sample)\n",
    "        duration = duration + time.time() - start\n",
    "        i = i + 1\n",
    "    return duration/repeats\n",
    "    \n"
   ]
  },
  {
   "cell_type": "code",
   "execution_count": 77,
   "metadata": {},
   "outputs": [
    {
     "data": {
      "text/plain": [
       "7.3552131652832035e-06"
      ]
     },
     "execution_count": 77,
     "metadata": {},
     "output_type": "execute_result"
    }
   ],
   "source": [
    "findmax_time(9,100)"
   ]
  },
  {
   "cell_type": "code",
   "execution_count": 79,
   "metadata": {},
   "outputs": [
    {
     "data": {
      "text/plain": [
       "2.3107528686523438e-05"
      ]
     },
     "execution_count": 79,
     "metadata": {},
     "output_type": "execute_result"
    }
   ],
   "source": [
    "findmax_time(20,100)"
   ]
  },
  {
   "cell_type": "code",
   "execution_count": 80,
   "metadata": {},
   "outputs": [
    {
     "data": {
      "text/plain": [
       "0.00045601129531860354"
      ]
     },
     "execution_count": 80,
     "metadata": {},
     "output_type": "execute_result"
    }
   ],
   "source": [
    "findmax_time(100,100)"
   ]
  },
  {
   "cell_type": "code",
   "execution_count": 81,
   "metadata": {},
   "outputs": [
    {
     "data": {
      "text/plain": [
       "0.04106937646865845"
      ]
     },
     "execution_count": 81,
     "metadata": {},
     "output_type": "execute_result"
    }
   ],
   "source": [
    "findmax_time(1000,100)"
   ]
  },
  {
   "cell_type": "code",
   "execution_count": 83,
   "metadata": {},
   "outputs": [
    {
     "data": {
      "text/plain": [
       "0.16994285106658935"
      ]
     },
     "execution_count": 83,
     "metadata": {},
     "output_type": "execute_result"
    }
   ],
   "source": [
    "findmax_time(2000,100)"
   ]
  },
  {
   "cell_type": "code",
   "execution_count": 84,
   "metadata": {},
   "outputs": [
    {
     "data": {
      "text/plain": [
       "0.6696550083160401"
      ]
     },
     "execution_count": 84,
     "metadata": {},
     "output_type": "execute_result"
    }
   ],
   "source": [
    "findmax_time(4000,100)"
   ]
  },
  {
   "cell_type": "markdown",
   "metadata": {},
   "source": [
    "Die Laufzeit zu den Anzahl Elementen in der Liste ist nicht linear. 2000 Elemente benötigen 0.17 Sekunden, wobei die doppelte Listengrösse, also 4000 Elemente bereits 0.67 Sekunden benötigt, also etwa 4x so lange."
   ]
  },
  {
   "cell_type": "code",
   "execution_count": 21,
   "metadata": {},
   "outputs": [
    {
     "name": "stdout",
     "output_type": "stream",
     "text": [
      "1\n",
      "2\n",
      "3\n",
      "4\n",
      "-8\n",
      "5\n",
      "6\n",
      "7\n",
      "8\n",
      "-8\n"
     ]
    },
    {
     "data": {
      "text/plain": [
       "28"
      ]
     },
     "execution_count": 21,
     "metadata": {},
     "output_type": "execute_result"
    }
   ],
   "source": [
    "def max_sub_seq_divide_and_conquer(data):\n",
    "    def max_in_range(r):\n",
    "        max_sum, s = 0, 0\n",
    "        for i in r:\n",
    "            s = s + data[i]\n",
    "            if s > max_sum:\n",
    "                max_sum = s\n",
    "        return max_sum\n",
    "\n",
    "    def max_sub_seq_part(beg, end):\n",
    "        if beg == end:\n",
    "            print(data[beg])\n",
    "            return max(0, data[beg])\n",
    "        else:\n",
    "            m = (beg + end) // 2\n",
    "            #print(m)\n",
    "            return max(max_sub_seq_part(beg, m), max_sub_seq_part(m + 1, end),\n",
    "                       max_in_range(range(m, beg - 1, -1)) + max_in_range(range(m + 1, end + 1)))\n",
    "\n",
    "    return max_sub_seq_part(0, len(data) - 1) if len(data) > 0 else 0\n",
    "\n",
    "max_sub_seq_divide_and_conquer([1,2,3,4,-8,5,6,7,8,-8])"
   ]
  },
  {
   "cell_type": "code",
   "execution_count": 14,
   "metadata": {},
   "outputs": [
    {
     "ename": "TypeError",
     "evalue": "'>' not supported between instances of 'int' and 'tuple'",
     "output_type": "error",
     "traceback": [
      "\u001b[0;31m---------------------------------------------------------------------------\u001b[0m",
      "\u001b[0;31mTypeError\u001b[0m                                 Traceback (most recent call last)",
      "\u001b[1;32m/Users/lukasreber/Repositories/apr/Asymptotische Komplexitaet/maximum_sub_sequence_problem.ipynb Cell 19'\u001b[0m in \u001b[0;36m<cell line: 23>\u001b[0;34m()\u001b[0m\n\u001b[1;32m     <a href='vscode-notebook-cell:/Users/lukasreber/Repositories/apr/Asymptotische%20Komplexitaet/maximum_sub_sequence_problem.ipynb#ch0000018?line=14'>15</a>\u001b[0m             \u001b[39mreturn\u001b[39;00m \u001b[39mmax\u001b[39m(\n\u001b[1;32m     <a href='vscode-notebook-cell:/Users/lukasreber/Repositories/apr/Asymptotische%20Komplexitaet/maximum_sub_sequence_problem.ipynb#ch0000018?line=15'>16</a>\u001b[0m                 max_sub(a, beg, m),\n\u001b[1;32m     <a href='vscode-notebook-cell:/Users/lukasreber/Repositories/apr/Asymptotische%20Komplexitaet/maximum_sub_sequence_problem.ipynb#ch0000018?line=16'>17</a>\u001b[0m                 max_sub(a, m\u001b[39m+\u001b[39m\u001b[39m1\u001b[39m, end),\n\u001b[1;32m     <a href='vscode-notebook-cell:/Users/lukasreber/Repositories/apr/Asymptotische%20Komplexitaet/maximum_sub_sequence_problem.ipynb#ch0000018?line=17'>18</a>\u001b[0m                 max_sub_in_range(a, \u001b[39mrange\u001b[39m(m, beg\u001b[39m-\u001b[39m\u001b[39m1\u001b[39m, \u001b[39m-\u001b[39m\u001b[39m1\u001b[39m)) \u001b[39m+\u001b[39m max_sub_in_range(a, \u001b[39mrange\u001b[39m(m\u001b[39m+\u001b[39m\u001b[39m1\u001b[39m, end\u001b[39m+\u001b[39m\u001b[39m1\u001b[39m))\n\u001b[1;32m     <a href='vscode-notebook-cell:/Users/lukasreber/Repositories/apr/Asymptotische%20Komplexitaet/maximum_sub_sequence_problem.ipynb#ch0000018?line=18'>19</a>\u001b[0m \n\u001b[1;32m     <a href='vscode-notebook-cell:/Users/lukasreber/Repositories/apr/Asymptotische%20Komplexitaet/maximum_sub_sequence_problem.ipynb#ch0000018?line=19'>20</a>\u001b[0m             )\n\u001b[1;32m     <a href='vscode-notebook-cell:/Users/lukasreber/Repositories/apr/Asymptotische%20Komplexitaet/maximum_sub_sequence_problem.ipynb#ch0000018?line=20'>21</a>\u001b[0m     \u001b[39mreturn\u001b[39;00m max_sub(a, \u001b[39m0\u001b[39m, \u001b[39mlen\u001b[39m(a)\u001b[39m-\u001b[39m\u001b[39m1\u001b[39m)\n\u001b[0;32m---> <a href='vscode-notebook-cell:/Users/lukasreber/Repositories/apr/Asymptotische%20Komplexitaet/maximum_sub_sequence_problem.ipynb#ch0000018?line=22'>23</a>\u001b[0m max_sub_seq_divide_and_conquer([\u001b[39m1\u001b[39;49m,\u001b[39m2\u001b[39;49m,\u001b[39m3\u001b[39;49m,\u001b[39m4\u001b[39;49m,\u001b[39m5\u001b[39;49m,\u001b[39m6\u001b[39;49m,\u001b[39m7\u001b[39;49m,\u001b[39m8\u001b[39;49m])\n",
      "\u001b[1;32m/Users/lukasreber/Repositories/apr/Asymptotische Komplexitaet/maximum_sub_sequence_problem.ipynb Cell 19'\u001b[0m in \u001b[0;36mmax_sub_seq_divide_and_conquer\u001b[0;34m(a)\u001b[0m\n\u001b[1;32m     <a href='vscode-notebook-cell:/Users/lukasreber/Repositories/apr/Asymptotische%20Komplexitaet/maximum_sub_sequence_problem.ipynb#ch0000018?line=13'>14</a>\u001b[0m         m \u001b[39m=\u001b[39m (beg \u001b[39m+\u001b[39m end) \u001b[39m/\u001b[39m\u001b[39m/\u001b[39m \u001b[39m2\u001b[39m\n\u001b[1;32m     <a href='vscode-notebook-cell:/Users/lukasreber/Repositories/apr/Asymptotische%20Komplexitaet/maximum_sub_sequence_problem.ipynb#ch0000018?line=14'>15</a>\u001b[0m         \u001b[39mreturn\u001b[39;00m \u001b[39mmax\u001b[39m(\n\u001b[1;32m     <a href='vscode-notebook-cell:/Users/lukasreber/Repositories/apr/Asymptotische%20Komplexitaet/maximum_sub_sequence_problem.ipynb#ch0000018?line=15'>16</a>\u001b[0m             max_sub(a, beg, m),\n\u001b[1;32m     <a href='vscode-notebook-cell:/Users/lukasreber/Repositories/apr/Asymptotische%20Komplexitaet/maximum_sub_sequence_problem.ipynb#ch0000018?line=16'>17</a>\u001b[0m             max_sub(a, m\u001b[39m+\u001b[39m\u001b[39m1\u001b[39m, end),\n\u001b[1;32m     <a href='vscode-notebook-cell:/Users/lukasreber/Repositories/apr/Asymptotische%20Komplexitaet/maximum_sub_sequence_problem.ipynb#ch0000018?line=17'>18</a>\u001b[0m             max_sub_in_range(a, \u001b[39mrange\u001b[39m(m, beg\u001b[39m-\u001b[39m\u001b[39m1\u001b[39m, \u001b[39m-\u001b[39m\u001b[39m1\u001b[39m)) \u001b[39m+\u001b[39m max_sub_in_range(a, \u001b[39mrange\u001b[39m(m\u001b[39m+\u001b[39m\u001b[39m1\u001b[39m, end\u001b[39m+\u001b[39m\u001b[39m1\u001b[39m))\n\u001b[1;32m     <a href='vscode-notebook-cell:/Users/lukasreber/Repositories/apr/Asymptotische%20Komplexitaet/maximum_sub_sequence_problem.ipynb#ch0000018?line=18'>19</a>\u001b[0m \n\u001b[1;32m     <a href='vscode-notebook-cell:/Users/lukasreber/Repositories/apr/Asymptotische%20Komplexitaet/maximum_sub_sequence_problem.ipynb#ch0000018?line=19'>20</a>\u001b[0m         )\n\u001b[0;32m---> <a href='vscode-notebook-cell:/Users/lukasreber/Repositories/apr/Asymptotische%20Komplexitaet/maximum_sub_sequence_problem.ipynb#ch0000018?line=20'>21</a>\u001b[0m \u001b[39mreturn\u001b[39;00m max_sub(a, \u001b[39m0\u001b[39;49m, \u001b[39mlen\u001b[39;49m(a)\u001b[39m-\u001b[39;49m\u001b[39m1\u001b[39;49m)\n",
      "\u001b[1;32m/Users/lukasreber/Repositories/apr/Asymptotische Komplexitaet/maximum_sub_sequence_problem.ipynb Cell 19'\u001b[0m in \u001b[0;36mmax_sub_seq_divide_and_conquer.<locals>.max_sub\u001b[0;34m(a, beg, end)\u001b[0m\n\u001b[1;32m     <a href='vscode-notebook-cell:/Users/lukasreber/Repositories/apr/Asymptotische%20Komplexitaet/maximum_sub_sequence_problem.ipynb#ch0000018?line=12'>13</a>\u001b[0m \u001b[39melse\u001b[39;00m:\n\u001b[1;32m     <a href='vscode-notebook-cell:/Users/lukasreber/Repositories/apr/Asymptotische%20Komplexitaet/maximum_sub_sequence_problem.ipynb#ch0000018?line=13'>14</a>\u001b[0m     m \u001b[39m=\u001b[39m (beg \u001b[39m+\u001b[39m end) \u001b[39m/\u001b[39m\u001b[39m/\u001b[39m \u001b[39m2\u001b[39m\n\u001b[1;32m     <a href='vscode-notebook-cell:/Users/lukasreber/Repositories/apr/Asymptotische%20Komplexitaet/maximum_sub_sequence_problem.ipynb#ch0000018?line=14'>15</a>\u001b[0m     \u001b[39mreturn\u001b[39;00m \u001b[39mmax\u001b[39m(\n\u001b[0;32m---> <a href='vscode-notebook-cell:/Users/lukasreber/Repositories/apr/Asymptotische%20Komplexitaet/maximum_sub_sequence_problem.ipynb#ch0000018?line=15'>16</a>\u001b[0m         max_sub(a, beg, m),\n\u001b[1;32m     <a href='vscode-notebook-cell:/Users/lukasreber/Repositories/apr/Asymptotische%20Komplexitaet/maximum_sub_sequence_problem.ipynb#ch0000018?line=16'>17</a>\u001b[0m         max_sub(a, m\u001b[39m+\u001b[39m\u001b[39m1\u001b[39m, end),\n\u001b[1;32m     <a href='vscode-notebook-cell:/Users/lukasreber/Repositories/apr/Asymptotische%20Komplexitaet/maximum_sub_sequence_problem.ipynb#ch0000018?line=17'>18</a>\u001b[0m         max_sub_in_range(a, \u001b[39mrange\u001b[39m(m, beg\u001b[39m-\u001b[39m\u001b[39m1\u001b[39m, \u001b[39m-\u001b[39m\u001b[39m1\u001b[39m)) \u001b[39m+\u001b[39m max_sub_in_range(a, \u001b[39mrange\u001b[39m(m\u001b[39m+\u001b[39m\u001b[39m1\u001b[39m, end\u001b[39m+\u001b[39m\u001b[39m1\u001b[39m))\n\u001b[1;32m     <a href='vscode-notebook-cell:/Users/lukasreber/Repositories/apr/Asymptotische%20Komplexitaet/maximum_sub_sequence_problem.ipynb#ch0000018?line=18'>19</a>\u001b[0m \n\u001b[1;32m     <a href='vscode-notebook-cell:/Users/lukasreber/Repositories/apr/Asymptotische%20Komplexitaet/maximum_sub_sequence_problem.ipynb#ch0000018?line=19'>20</a>\u001b[0m     )\n",
      "\u001b[1;32m/Users/lukasreber/Repositories/apr/Asymptotische Komplexitaet/maximum_sub_sequence_problem.ipynb Cell 19'\u001b[0m in \u001b[0;36mmax_sub_seq_divide_and_conquer.<locals>.max_sub\u001b[0;34m(a, beg, end)\u001b[0m\n\u001b[1;32m     <a href='vscode-notebook-cell:/Users/lukasreber/Repositories/apr/Asymptotische%20Komplexitaet/maximum_sub_sequence_problem.ipynb#ch0000018?line=12'>13</a>\u001b[0m \u001b[39melse\u001b[39;00m:\n\u001b[1;32m     <a href='vscode-notebook-cell:/Users/lukasreber/Repositories/apr/Asymptotische%20Komplexitaet/maximum_sub_sequence_problem.ipynb#ch0000018?line=13'>14</a>\u001b[0m     m \u001b[39m=\u001b[39m (beg \u001b[39m+\u001b[39m end) \u001b[39m/\u001b[39m\u001b[39m/\u001b[39m \u001b[39m2\u001b[39m\n\u001b[1;32m     <a href='vscode-notebook-cell:/Users/lukasreber/Repositories/apr/Asymptotische%20Komplexitaet/maximum_sub_sequence_problem.ipynb#ch0000018?line=14'>15</a>\u001b[0m     \u001b[39mreturn\u001b[39;00m \u001b[39mmax\u001b[39m(\n\u001b[0;32m---> <a href='vscode-notebook-cell:/Users/lukasreber/Repositories/apr/Asymptotische%20Komplexitaet/maximum_sub_sequence_problem.ipynb#ch0000018?line=15'>16</a>\u001b[0m         max_sub(a, beg, m),\n\u001b[1;32m     <a href='vscode-notebook-cell:/Users/lukasreber/Repositories/apr/Asymptotische%20Komplexitaet/maximum_sub_sequence_problem.ipynb#ch0000018?line=16'>17</a>\u001b[0m         max_sub(a, m\u001b[39m+\u001b[39m\u001b[39m1\u001b[39m, end),\n\u001b[1;32m     <a href='vscode-notebook-cell:/Users/lukasreber/Repositories/apr/Asymptotische%20Komplexitaet/maximum_sub_sequence_problem.ipynb#ch0000018?line=17'>18</a>\u001b[0m         max_sub_in_range(a, \u001b[39mrange\u001b[39m(m, beg\u001b[39m-\u001b[39m\u001b[39m1\u001b[39m, \u001b[39m-\u001b[39m\u001b[39m1\u001b[39m)) \u001b[39m+\u001b[39m max_sub_in_range(a, \u001b[39mrange\u001b[39m(m\u001b[39m+\u001b[39m\u001b[39m1\u001b[39m, end\u001b[39m+\u001b[39m\u001b[39m1\u001b[39m))\n\u001b[1;32m     <a href='vscode-notebook-cell:/Users/lukasreber/Repositories/apr/Asymptotische%20Komplexitaet/maximum_sub_sequence_problem.ipynb#ch0000018?line=18'>19</a>\u001b[0m \n\u001b[1;32m     <a href='vscode-notebook-cell:/Users/lukasreber/Repositories/apr/Asymptotische%20Komplexitaet/maximum_sub_sequence_problem.ipynb#ch0000018?line=19'>20</a>\u001b[0m     )\n",
      "\u001b[1;32m/Users/lukasreber/Repositories/apr/Asymptotische Komplexitaet/maximum_sub_sequence_problem.ipynb Cell 19'\u001b[0m in \u001b[0;36mmax_sub_seq_divide_and_conquer.<locals>.max_sub\u001b[0;34m(a, beg, end)\u001b[0m\n\u001b[1;32m     <a href='vscode-notebook-cell:/Users/lukasreber/Repositories/apr/Asymptotische%20Komplexitaet/maximum_sub_sequence_problem.ipynb#ch0000018?line=12'>13</a>\u001b[0m \u001b[39melse\u001b[39;00m:\n\u001b[1;32m     <a href='vscode-notebook-cell:/Users/lukasreber/Repositories/apr/Asymptotische%20Komplexitaet/maximum_sub_sequence_problem.ipynb#ch0000018?line=13'>14</a>\u001b[0m     m \u001b[39m=\u001b[39m (beg \u001b[39m+\u001b[39m end) \u001b[39m/\u001b[39m\u001b[39m/\u001b[39m \u001b[39m2\u001b[39m\n\u001b[0;32m---> <a href='vscode-notebook-cell:/Users/lukasreber/Repositories/apr/Asymptotische%20Komplexitaet/maximum_sub_sequence_problem.ipynb#ch0000018?line=14'>15</a>\u001b[0m     \u001b[39mreturn\u001b[39;00m \u001b[39mmax\u001b[39;49m(\n\u001b[1;32m     <a href='vscode-notebook-cell:/Users/lukasreber/Repositories/apr/Asymptotische%20Komplexitaet/maximum_sub_sequence_problem.ipynb#ch0000018?line=15'>16</a>\u001b[0m         max_sub(a, beg, m),\n\u001b[1;32m     <a href='vscode-notebook-cell:/Users/lukasreber/Repositories/apr/Asymptotische%20Komplexitaet/maximum_sub_sequence_problem.ipynb#ch0000018?line=16'>17</a>\u001b[0m         max_sub(a, m\u001b[39m+\u001b[39;49m\u001b[39m1\u001b[39;49m, end),\n\u001b[1;32m     <a href='vscode-notebook-cell:/Users/lukasreber/Repositories/apr/Asymptotische%20Komplexitaet/maximum_sub_sequence_problem.ipynb#ch0000018?line=17'>18</a>\u001b[0m         max_sub_in_range(a, \u001b[39mrange\u001b[39;49m(m, beg\u001b[39m-\u001b[39;49m\u001b[39m1\u001b[39;49m, \u001b[39m-\u001b[39;49m\u001b[39m1\u001b[39;49m)) \u001b[39m+\u001b[39;49m max_sub_in_range(a, \u001b[39mrange\u001b[39;49m(m\u001b[39m+\u001b[39;49m\u001b[39m1\u001b[39;49m, end\u001b[39m+\u001b[39;49m\u001b[39m1\u001b[39;49m))\n\u001b[1;32m     <a href='vscode-notebook-cell:/Users/lukasreber/Repositories/apr/Asymptotische%20Komplexitaet/maximum_sub_sequence_problem.ipynb#ch0000018?line=18'>19</a>\u001b[0m \n\u001b[1;32m     <a href='vscode-notebook-cell:/Users/lukasreber/Repositories/apr/Asymptotische%20Komplexitaet/maximum_sub_sequence_problem.ipynb#ch0000018?line=19'>20</a>\u001b[0m     )\n",
      "\u001b[0;31mTypeError\u001b[0m: '>' not supported between instances of 'int' and 'tuple'"
     ]
    }
   ],
   "source": [
    "def max_sub_seq_divide_and_conquer(a):\n",
    "    def max_sub_in_range(a,r):\n",
    "        max_sum, s = 0, 0\n",
    "        for i in r:\n",
    "            s += a[i]\n",
    "            if max_sum < s:\n",
    "                max_sum = s\n",
    "        return max_sum\n",
    "\n",
    "    def max_sub(a, beg, end):\n",
    "        if beg == end:\n",
    "            return (0, a[beg])\n",
    "        else:\n",
    "            m = (beg + end) // 2\n",
    "            return max(\n",
    "                max_sub(a, beg, m),\n",
    "                max_sub(a, m+1, end),\n",
    "                max_sub_in_range(a, range(m, beg-1, -1)) + max_sub_in_range(a, range(m+1, end+1))\n",
    "\n",
    "            )\n",
    "    return max_sub(a, 0, len(a)-1)\n",
    "    \n",
    "max_sub_seq_divide_and_conquer([1,2,3,4,5,6,7,8])\n"
   ]
  },
  {
   "cell_type": "code",
   "execution_count": 12,
   "metadata": {},
   "outputs": [],
   "source": []
  },
  {
   "cell_type": "code",
   "execution_count": 10,
   "metadata": {},
   "outputs": [
    {
     "data": {
      "text/plain": [
       "10"
      ]
     },
     "execution_count": 10,
     "metadata": {},
     "output_type": "execute_result"
    }
   ],
   "source": [
    "max_sub_in_range([1,2,3,4,5,6,7,8], range(3,0-1,-1))"
   ]
  },
  {
   "cell_type": "code",
   "execution_count": 9,
   "metadata": {},
   "outputs": [
    {
     "name": "stdout",
     "output_type": "stream",
     "text": [
      "3\n",
      "2\n",
      "1\n",
      "0\n"
     ]
    }
   ],
   "source": [
    "for i in range(3,0-1,-1):\n",
    "    print(i)"
   ]
  },
  {
   "cell_type": "code",
   "execution_count": null,
   "metadata": {},
   "outputs": [],
   "source": []
  }
 ],
 "metadata": {
  "interpreter": {
   "hash": "6b9b9ffe161502460e96cc99d9ad3a3cd628cb0d5ac97f8d40dd9ddb12c81464"
  },
  "kernelspec": {
   "display_name": "Python 3.8.9 ('apr': venv)",
   "language": "python",
   "name": "python3"
  },
  "language_info": {
   "codemirror_mode": {
    "name": "ipython",
    "version": 3
   },
   "file_extension": ".py",
   "mimetype": "text/x-python",
   "name": "python",
   "nbconvert_exporter": "python",
   "pygments_lexer": "ipython3",
   "version": "3.8.9"
  },
  "orig_nbformat": 4
 },
 "nbformat": 4,
 "nbformat_minor": 2
}
