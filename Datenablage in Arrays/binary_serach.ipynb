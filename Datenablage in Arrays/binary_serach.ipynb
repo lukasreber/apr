{
 "cells": [
  {
   "cell_type": "markdown",
   "metadata": {},
   "source": [
    "# Aufgaben zu Binary Search"
   ]
  },
  {
   "cell_type": "markdown",
   "metadata": {},
   "source": [
    "## 1. Binäre Suche mit mehreren gleichen Elementen"
   ]
  },
  {
   "cell_type": "code",
   "execution_count": 26,
   "metadata": {},
   "outputs": [],
   "source": [
    "def binary_search(l,h,lst,x):\n",
    "\n",
    "    if l+1 == h:\n",
    "        print(f'value not present, insert at Index {h}')\n",
    "        return -1\n",
    "    m = (l+h) // 2\n",
    "    if x == lst[m]:\n",
    "        print(f'Value present at Index {m}')\n",
    "        return m\n",
    "    elif x < lst[m]:\n",
    "        binary_search(l=l,h=m,lst=lst,x=x)\n",
    "    elif x > lst[m]:\n",
    "        binary_search(l=m,h=h,lst=lst,x=x)"
   ]
  },
  {
   "cell_type": "code",
   "execution_count": 27,
   "metadata": {},
   "outputs": [
    {
     "name": "stdout",
     "output_type": "stream",
     "text": [
      "Value present at Index 2\n"
     ]
    }
   ],
   "source": [
    "sorted_list = [1,2,3,4,5,6,7,8,9,10,11]\n",
    "\n",
    "res = binary_search(l=-1,h=len(sorted_list),lst=sorted_list,x=3)"
   ]
  },
  {
   "cell_type": "code",
   "execution_count": 31,
   "metadata": {},
   "outputs": [
    {
     "name": "stdout",
     "output_type": "stream",
     "text": [
      "value not present, insert at Index 14\n"
     ]
    }
   ],
   "source": [
    "sorted_list = [1,1,2,3,5,8,13,14,15,22,24,24,30,31]\n",
    "\n",
    "res = binary_search(l=-1,h=len(sorted_list),lst=sorted_list,x=33)"
   ]
  },
  {
   "cell_type": "code",
   "execution_count": 32,
   "metadata": {},
   "outputs": [
    {
     "data": {
      "text/plain": [
       "14"
      ]
     },
     "execution_count": 32,
     "metadata": {},
     "output_type": "execute_result"
    }
   ],
   "source": [
    "len(sorted_list)"
   ]
  },
  {
   "cell_type": "code",
   "execution_count": null,
   "metadata": {},
   "outputs": [],
   "source": []
  }
 ],
 "metadata": {
  "kernelspec": {
   "display_name": "Python 3.9.6 ('apr': venv)",
   "language": "python",
   "name": "python3"
  },
  "language_info": {
   "codemirror_mode": {
    "name": "ipython",
    "version": 3
   },
   "file_extension": ".py",
   "mimetype": "text/x-python",
   "name": "python",
   "nbconvert_exporter": "python",
   "pygments_lexer": "ipython3",
   "version": "3.9.6"
  },
  "orig_nbformat": 4,
  "vscode": {
   "interpreter": {
    "hash": "6b9b9ffe161502460e96cc99d9ad3a3cd628cb0d5ac97f8d40dd9ddb12c81464"
   }
  }
 },
 "nbformat": 4,
 "nbformat_minor": 2
}
