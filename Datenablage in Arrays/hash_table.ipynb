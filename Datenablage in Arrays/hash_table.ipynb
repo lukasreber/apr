{
 "cells": [
  {
   "cell_type": "code",
   "execution_count": 33,
   "metadata": {},
   "outputs": [],
   "source": [
    "def new_hash_set(table_size):\n",
    "    return tuple([] for _ in range(table_size))\n",
    "\n",
    "# function for adding an element to a hash table\n",
    "def add_to_hash_set(table, elem):\n",
    "    hash_key = hash(elem) % len(table)\n",
    "    if elem not in table[hash_key]:\n",
    "        table[hash_key].append(elem)\n",
    "    return table\n",
    "\n",
    "# function for removing elements from a hash table\n",
    "def remove_from_hash_set(table, elem):\n",
    "    hash_key = hash(elem) % len(table)\n",
    "    if elem in table[hash_key]:\n",
    "        table[hash_key].remove(elem)\n",
    "    return table\n",
    "\n",
    "# function for checking if an element is in a hash table\n",
    "def is_in_hash_set(table, elem):\n",
    "    hash_key = hash(elem) % len(table)\n",
    "    if elem in table[hash_key]:\n",
    "        return True\n",
    "    return False\n",
    "\n",
    "# function for counting the number of elements in a hash table\n",
    "def num_elems(table):\n",
    "    num = 0\n",
    "    for i in range(len(table)):\n",
    "        num += len(table[i])\n",
    "    return num\n",
    "\n",
    "# get statistics for a hash table\n",
    "def get_statistics(table):\n",
    "    # get number of calls to find each element once\n",
    "    num_calls = 0\n",
    "    max_calls = 0\n",
    "    for lst in table:\n",
    "        if lst:\n",
    "            num_calls += ((len(lst) + 1) * len(lst)) // 2\n",
    "            if len(lst) > max_calls:\n",
    "                max_calls = len(lst)\n",
    "    return (num_calls / num_elems(table), max_calls)\n",
    "\n"
   ]
  },
  {
   "cell_type": "code",
   "execution_count": 2,
   "metadata": {},
   "outputs": [],
   "source": [
    "x = new_hash_set(10)"
   ]
  },
  {
   "cell_type": "code",
   "execution_count": 3,
   "metadata": {},
   "outputs": [
    {
     "data": {
      "text/plain": [
       "([], [], [], [], [], [], [], [], [], [])"
      ]
     },
     "execution_count": 3,
     "metadata": {},
     "output_type": "execute_result"
    }
   ],
   "source": [
    "x"
   ]
  },
  {
   "cell_type": "code",
   "execution_count": 9,
   "metadata": {},
   "outputs": [
    {
     "data": {
      "text/plain": [
       "(['8'],\n",
       " [1, 'abc', '12'],\n",
       " ['2'],\n",
       " ['55'],\n",
       " ['33'],\n",
       " [],\n",
       " [],\n",
       " [],\n",
       " [],\n",
       " ['32', '43', '5'])"
      ]
     },
     "execution_count": 9,
     "metadata": {},
     "output_type": "execute_result"
    }
   ],
   "source": [
    "add_to_hash_set(x, 1)\n",
    "add_to_hash_set(x, 'abc')\n",
    "add_to_hash_set(x, '32')\n",
    "add_to_hash_set(x, '43')\n",
    "add_to_hash_set(x, '12')\n",
    "add_to_hash_set(x, '2')\n",
    "add_to_hash_set(x, '55')\n",
    "add_to_hash_set(x, '33')\n",
    "add_to_hash_set(x, '5')\n",
    "add_to_hash_set(x, '8')"
   ]
  },
  {
   "cell_type": "code",
   "execution_count": 34,
   "metadata": {},
   "outputs": [
    {
     "data": {
      "text/plain": [
       "(1.6, 3)"
      ]
     },
     "execution_count": 34,
     "metadata": {},
     "output_type": "execute_result"
    }
   ],
   "source": [
    "get_statistics(x)"
   ]
  },
  {
   "cell_type": "markdown",
   "metadata": {},
   "source": [
    "### Aufgabe 5"
   ]
  },
  {
   "cell_type": "code",
   "execution_count": 35,
   "metadata": {},
   "outputs": [],
   "source": [
    "import random"
   ]
  },
  {
   "cell_type": "code",
   "execution_count": 37,
   "metadata": {},
   "outputs": [],
   "source": [
    "i = 0\n",
    "x = new_hash_set(400000)\n",
    "while i < 300000:\n",
    "    add_to_hash_set(x, random.random())\n",
    "    i += 1"
   ]
  },
  {
   "cell_type": "code",
   "execution_count": 38,
   "metadata": {},
   "outputs": [
    {
     "data": {
      "text/plain": [
       "(48.98437333333333, 134)"
      ]
     },
     "execution_count": 38,
     "metadata": {},
     "output_type": "execute_result"
    }
   ],
   "source": [
    "get_statistics(x)"
   ]
  },
  {
   "cell_type": "code",
   "execution_count": 39,
   "metadata": {},
   "outputs": [
    {
     "data": {
      "text/plain": [
       "(1.3749366666666667, 7)"
      ]
     },
     "execution_count": 39,
     "metadata": {},
     "output_type": "execute_result"
    }
   ],
   "source": [
    "i = 0\n",
    "x = new_hash_set(400009)\n",
    "while i < 300000:\n",
    "    add_to_hash_set(x, random.random())\n",
    "    i += 1\n",
    "get_statistics(x)"
   ]
  },
  {
   "cell_type": "markdown",
   "metadata": {},
   "source": [
    "Um die Effizienz der Hash Table zu gewährleisten, müssen alle Elemente in der Hash Table den gleichen Hash-Wert haben, wenn sie gleich sind. Andernfalls könnte es zu Problemen kommen, wenn zwei Elemente unterschiedliche Hash-Werte haben, obwohl sie gleich sind. Aus diesem Grund können nur Objekte als Elemente in einer Python Hash Table verwendet werden, die unveränderlich sind. Wenn sich der Wert eines Elements ändert, könnte sich auch sein Hash-Wert ändern, was zu Problemen führen könnte.\n",
    "\n",
    "Um sicherzustellen, dass nur unveränderliche Objekte in einer Hash Table verwendet werden können, wurde diese Einschränkung in Python implementiert. Dadurch können Sie sicher sein, dass die Hash Table immer korrekt funktioniert."
   ]
  },
  {
   "cell_type": "markdown",
   "metadata": {},
   "source": [
    "## Open Addressing - Linear Probing"
   ]
  },
  {
   "cell_type": "code",
   "execution_count": 57,
   "metadata": {},
   "outputs": [],
   "source": [
    "def new_hash_set(table_size):\n",
    "    return [None] * table_size\n",
    "\n",
    "\n",
    "# function for adding an element to a hash table\n",
    "def add_to_hash_set(table, elem):\n",
    "    hash_key = hash(elem) % len(table)\n",
    "    while table[hash_key] is not None and table[hash_key] != elem:\n",
    "        hash_key = (hash_key + 1) % len(table)\n",
    "    table[hash_key] = elem\n",
    "    return table"
   ]
  },
  {
   "cell_type": "code",
   "execution_count": 58,
   "metadata": {},
   "outputs": [],
   "source": [
    "x = new_hash_set(10)"
   ]
  },
  {
   "cell_type": "code",
   "execution_count": 60,
   "metadata": {},
   "outputs": [
    {
     "data": {
      "text/plain": [
       "[None, None, 12, 2, None, None, None, None, None, None]"
      ]
     },
     "execution_count": 60,
     "metadata": {},
     "output_type": "execute_result"
    }
   ],
   "source": [
    "add_to_hash_set(x,2)"
   ]
  },
  {
   "cell_type": "markdown",
   "metadata": {},
   "source": [
    "## Open Addressing - Double Hashing"
   ]
  },
  {
   "cell_type": "code",
   "execution_count": 80,
   "metadata": {},
   "outputs": [],
   "source": [
    "def new_hash_set(table_size):\n",
    "    return [None] * table_size\n",
    "\n",
    "\n",
    "# function for adding an element to a hash table\n",
    "def add_to_hash_set(table, elem):\n",
    "    hash_key = hash(elem) % len(table)\n",
    "    step = 1 + hash(elem) % (len(table) - 2)\n",
    "    while table[hash_key] is not None and table[hash_key] != elem:\n",
    "        hash_key = (hash_key + step) % len(table)\n",
    "    table[hash_key] = elem\n",
    "    return table"
   ]
  },
  {
   "cell_type": "code",
   "execution_count": 82,
   "metadata": {},
   "outputs": [],
   "source": [
    "x = new_hash_set(13)"
   ]
  },
  {
   "cell_type": "code",
   "execution_count": 91,
   "metadata": {},
   "outputs": [
    {
     "data": {
      "text/plain": [
       "[0, 1, 49, 16, 4, None, 64, None, 81, 9, 36, None, 25]"
      ]
     },
     "execution_count": 91,
     "metadata": {},
     "output_type": "execute_result"
    }
   ],
   "source": [
    "add_to_hash_set(x,0)\n",
    "add_to_hash_set(x,1)\n",
    "add_to_hash_set(x,4)\n",
    "add_to_hash_set(x,9)\n",
    "add_to_hash_set(x,16)\n",
    "add_to_hash_set(x,25)\n",
    "add_to_hash_set(x,36)\n",
    "add_to_hash_set(x,49)\n",
    "add_to_hash_set(x,64)\n",
    "add_to_hash_set(x,81)"
   ]
  },
  {
   "cell_type": "code",
   "execution_count": null,
   "metadata": {},
   "outputs": [],
   "source": []
  },
  {
   "cell_type": "code",
   "execution_count": 2,
   "metadata": {},
   "outputs": [],
   "source": [
    "x = 42"
   ]
  },
  {
   "cell_type": "code",
   "execution_count": 3,
   "metadata": {},
   "outputs": [],
   "source": [
    "g = globals()"
   ]
  },
  {
   "cell_type": "code",
   "execution_count": 4,
   "metadata": {},
   "outputs": [
    {
     "data": {
      "text/plain": [
       "dict"
      ]
     },
     "execution_count": 4,
     "metadata": {},
     "output_type": "execute_result"
    }
   ],
   "source": [
    "type(g)"
   ]
  },
  {
   "cell_type": "code",
   "execution_count": 9,
   "metadata": {},
   "outputs": [
    {
     "name": "stdout",
     "output_type": "stream",
     "text": [
      "0\n",
      "1\n",
      "2\n",
      "3\n",
      "4\n"
     ]
    }
   ],
   "source": [
    "for x in {1,3,2,4,0}:\n",
    "    print(x)"
   ]
  },
  {
   "cell_type": "code",
   "execution_count": 10,
   "metadata": {},
   "outputs": [
    {
     "name": "stdout",
     "output_type": "stream",
     "text": [
      "1\n",
      "3\n",
      "2\n",
      "4\n",
      "0\n"
     ]
    }
   ],
   "source": [
    "for x in {1:\"a\",3:\"b\",2:\"c\",4:\"d\",0:\"e\"}:\n",
    "    print(x)"
   ]
  },
  {
   "cell_type": "code",
   "execution_count": null,
   "metadata": {},
   "outputs": [],
   "source": []
  }
 ],
 "metadata": {
  "kernelspec": {
   "display_name": "Python 3.9.6 ('apr': venv)",
   "language": "python",
   "name": "python3"
  },
  "language_info": {
   "codemirror_mode": {
    "name": "ipython",
    "version": 3
   },
   "file_extension": ".py",
   "mimetype": "text/x-python",
   "name": "python",
   "nbconvert_exporter": "python",
   "pygments_lexer": "ipython3",
   "version": "3.9.6 (default, Aug  5 2022, 15:21:02) \n[Clang 14.0.0 (clang-1400.0.29.102)]"
  },
  "orig_nbformat": 4,
  "vscode": {
   "interpreter": {
    "hash": "6b9b9ffe161502460e96cc99d9ad3a3cd628cb0d5ac97f8d40dd9ddb12c81464"
   }
  }
 },
 "nbformat": 4,
 "nbformat_minor": 2
}
