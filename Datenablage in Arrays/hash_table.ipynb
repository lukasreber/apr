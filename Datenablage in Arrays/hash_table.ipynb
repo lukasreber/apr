{
 "cells": [
  {
   "cell_type": "code",
   "execution_count": 33,
   "metadata": {},
   "outputs": [],
   "source": [
    "def new_hash_set(table_size):\n",
    "    return tuple([] for _ in range(table_size))\n",
    "\n",
    "# function for adding an element to a hash table\n",
    "def add_to_hash_set(table, elem):\n",
    "    hash_key = hash(elem) % len(table)\n",
    "    if elem not in table[hash_key]:\n",
    "        table[hash_key].append(elem)\n",
    "    return table\n",
    "\n",
    "# function for removing elements from a hash table\n",
    "def remove_from_hash_set(table, elem):\n",
    "    hash_key = hash(elem) % len(table)\n",
    "    if elem in table[hash_key]:\n",
    "        table[hash_key].remove(elem)\n",
    "    return table\n",
    "\n",
    "# function for checking if an element is in a hash table\n",
    "def is_in_hash_set(table, elem):\n",
    "    hash_key = hash(elem) % len(table)\n",
    "    if elem in table[hash_key]:\n",
    "        return True\n",
    "    return False\n",
    "\n",
    "# function for counting the number of elements in a hash table\n",
    "def num_elems(table):\n",
    "    num = 0\n",
    "    for i in range(len(table)):\n",
    "        num += len(table[i])\n",
    "    return num\n",
    "\n",
    "# get statistics for a hash table\n",
    "def get_statistics(table):\n",
    "    # get number of calls to find each element once\n",
    "    num_calls = 0\n",
    "    max_calls = 0\n",
    "    for lst in table:\n",
    "        if lst:\n",
    "            num_calls += ((len(lst) + 1) * len(lst)) // 2\n",
    "            if len(lst) > max_calls:\n",
    "                max_calls = len(lst)\n",
    "    return (num_calls / num_elems(table), max_calls)\n",
    "\n"
   ]
  },
  {
   "cell_type": "code",
   "execution_count": 2,
   "metadata": {},
   "outputs": [],
   "source": [
    "x = new_hash_set(10)"
   ]
  },
  {
   "cell_type": "code",
   "execution_count": 3,
   "metadata": {},
   "outputs": [
    {
     "data": {
      "text/plain": [
       "([], [], [], [], [], [], [], [], [], [])"
      ]
     },
     "execution_count": 3,
     "metadata": {},
     "output_type": "execute_result"
    }
   ],
   "source": [
    "x"
   ]
  },
  {
   "cell_type": "code",
   "execution_count": 9,
   "metadata": {},
   "outputs": [
    {
     "data": {
      "text/plain": [
       "(['8'],\n",
       " [1, 'abc', '12'],\n",
       " ['2'],\n",
       " ['55'],\n",
       " ['33'],\n",
       " [],\n",
       " [],\n",
       " [],\n",
       " [],\n",
       " ['32', '43', '5'])"
      ]
     },
     "execution_count": 9,
     "metadata": {},
     "output_type": "execute_result"
    }
   ],
   "source": [
    "add_to_hash_set(x, 1)\n",
    "add_to_hash_set(x, 'abc')\n",
    "add_to_hash_set(x, '32')\n",
    "add_to_hash_set(x, '43')\n",
    "add_to_hash_set(x, '12')\n",
    "add_to_hash_set(x, '2')\n",
    "add_to_hash_set(x, '55')\n",
    "add_to_hash_set(x, '33')\n",
    "add_to_hash_set(x, '5')\n",
    "add_to_hash_set(x, '8')"
   ]
  },
  {
   "cell_type": "code",
   "execution_count": 34,
   "metadata": {},
   "outputs": [
    {
     "data": {
      "text/plain": [
       "(1.6, 3)"
      ]
     },
     "execution_count": 34,
     "metadata": {},
     "output_type": "execute_result"
    }
   ],
   "source": [
    "get_statistics(x)"
   ]
  },
  {
   "cell_type": "code",
   "execution_count": null,
   "metadata": {},
   "outputs": [],
   "source": []
  }
 ],
 "metadata": {
  "kernelspec": {
   "display_name": "Python 3.9.6 ('apr': venv)",
   "language": "python",
   "name": "python3"
  },
  "language_info": {
   "codemirror_mode": {
    "name": "ipython",
    "version": 3
   },
   "file_extension": ".py",
   "mimetype": "text/x-python",
   "name": "python",
   "nbconvert_exporter": "python",
   "pygments_lexer": "ipython3",
   "version": "3.9.6"
  },
  "orig_nbformat": 4,
  "vscode": {
   "interpreter": {
    "hash": "6b9b9ffe161502460e96cc99d9ad3a3cd628cb0d5ac97f8d40dd9ddb12c81464"
   }
  }
 },
 "nbformat": 4,
 "nbformat_minor": 2
}
