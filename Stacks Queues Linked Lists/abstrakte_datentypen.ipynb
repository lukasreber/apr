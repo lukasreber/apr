{
 "cells": [
  {
   "attachments": {},
   "cell_type": "markdown",
   "metadata": {},
   "source": [
    "# Implementation von Bag mittels Dictionary"
   ]
  },
  {
   "cell_type": "code",
   "execution_count": 6,
   "metadata": {},
   "outputs": [],
   "source": [
    "from collections import namedtuple"
   ]
  },
  {
   "cell_type": "code",
   "execution_count": 41,
   "metadata": {},
   "outputs": [],
   "source": [
    "# Funktionale Programmierung\n",
    "Bag = namedtuple('Bag', 'add_one number_of remove_one')\n",
    "\n",
    "def bag_l():\n",
    "    dct = {}\n",
    "    def add_one(element):\n",
    "        dct[element] = dct.get(element, 0) + 1\n",
    "\n",
    "    def remove_one(element):\n",
    "        if dct.get(element, 0) == 0:\n",
    "            pass\n",
    "        else:\n",
    "            dct[element] -= 1\n",
    "\n",
    "    def number_of(element):\n",
    "        return dct.get(element, 0)\n",
    "\n",
    "    return Bag(add_one, number_of, remove_one)"
   ]
  },
  {
   "cell_type": "code",
   "execution_count": 46,
   "metadata": {},
   "outputs": [],
   "source": [
    "b = bag_l()\n",
    "b.add_one('a')\n",
    "b.add_one('b')\n",
    "b.add_one('a')\n",
    "b.remove_one('a')\n",
    "b.add_one('a')\n",
    "assert b.number_of('a') == 2\n",
    "assert b.number_of('b') == 1"
   ]
  },
  {
   "cell_type": "code",
   "execution_count": 48,
   "metadata": {},
   "outputs": [],
   "source": [
    "# Objektorientierte Programmierung\n",
    "class Bag:\n",
    "    def __init__(self):\n",
    "        self.dct = {}\n",
    "\n",
    "    def add_one(self, element):\n",
    "        self.dct[element] = self.dct.get(element, 0) + 1\n",
    "\n",
    "    def remove_one(self, element):\n",
    "        if self.dct.get(element, 0) == 0:\n",
    "            pass\n",
    "        else:\n",
    "            self.dct[element] -= 1\n",
    "\n",
    "    def number_of(self, element):\n",
    "        return self.dct.get(element, 0)"
   ]
  },
  {
   "cell_type": "code",
   "execution_count": 49,
   "metadata": {},
   "outputs": [],
   "source": [
    "b = Bag()\n",
    "b.add_one('a')\n",
    "b.add_one('b')\n",
    "b.add_one('a')\n",
    "b.remove_one('a')\n",
    "b.add_one('a')\n",
    "assert b.number_of('a') == 2\n",
    "assert b.number_of('b') == 1"
   ]
  },
  {
   "attachments": {},
   "cell_type": "markdown",
   "metadata": {},
   "source": [
    "## Stack Implementierung mittels deque"
   ]
  },
  {
   "cell_type": "code",
   "execution_count": 50,
   "metadata": {},
   "outputs": [],
   "source": [
    "from collections import deque"
   ]
  },
  {
   "cell_type": "code",
   "execution_count": 54,
   "metadata": {},
   "outputs": [],
   "source": [
    "# Stack ist eine FIFO-Datenstrucktun (First In First Out)\n",
    "Stack = namedtuple('Stack', 'add take size')\n",
    "\n",
    "def stack_d():\n",
    "    stack = deque()\n",
    "    def add(element):\n",
    "        stack.append(element)\n",
    "\n",
    "    def take():\n",
    "        return stack.popleft()\n",
    "\n",
    "    def size():\n",
    "        return len(stack)\n",
    "\n",
    "    return Stack(add, take, size)"
   ]
  },
  {
   "cell_type": "code",
   "execution_count": 56,
   "metadata": {},
   "outputs": [
    {
     "data": {
      "text/plain": [
       "1"
      ]
     },
     "execution_count": 56,
     "metadata": {},
     "output_type": "execute_result"
    }
   ],
   "source": [
    "stack = stack_d()\n",
    "stack.add(1)\n",
    "stack.add(2)\n",
    "stack.add(3)\n",
    "stack.take()"
   ]
  },
  {
   "attachments": {},
   "cell_type": "markdown",
   "metadata": {},
   "source": [
    "## Effiziente FIFO-Queue mit zyklischen Listen"
   ]
  },
  {
   "cell_type": "code",
   "execution_count": 76,
   "metadata": {},
   "outputs": [],
   "source": [
    "# FIFO-Queue mit Liste\n",
    "class Queue:\n",
    "    def __init__(self, size):\n",
    "        self.queue = [None]*10\n",
    "        self.beg = 0\n",
    "        self.end = 0\n",
    "        self.size = size\n",
    "\n",
    "\n",
    "    def add(self, element):\n",
    "        self.queue[self.end] = element\n",
    "        self.end += 1\n",
    "\n",
    "    def take(self):\n",
    "        r = self.queue[self.beg]\n",
    "        self.queue[self.beg] = None\n",
    "        self.beg += 1\n",
    "        return r\n",
    "        \n",
    "\n",
    "\n",
    "    def show(self):\n",
    "        return self.queue"
   ]
  },
  {
   "cell_type": "code",
   "execution_count": 77,
   "metadata": {},
   "outputs": [],
   "source": [
    "q = Queue(size = 10)\n",
    "q.add(1)\n",
    "q.add(1)\n",
    "q.add(1)\n",
    "q.add(1)\n",
    "q.add(1)"
   ]
  },
  {
   "cell_type": "code",
   "execution_count": 81,
   "metadata": {},
   "outputs": [
    {
     "data": {
      "text/plain": [
       "[1, 1, 1, 1, 1, None, None, None, None, None]"
      ]
     },
     "execution_count": 81,
     "metadata": {},
     "output_type": "execute_result"
    }
   ],
   "source": [
    "q.show()"
   ]
  },
  {
   "cell_type": "code",
   "execution_count": 80,
   "metadata": {},
   "outputs": [
    {
     "data": {
      "text/plain": [
       "1"
      ]
     },
     "execution_count": 80,
     "metadata": {},
     "output_type": "execute_result"
    }
   ],
   "source": [
    "q.take()"
   ]
  },
  {
   "cell_type": "code",
   "execution_count": null,
   "metadata": {},
   "outputs": [],
   "source": []
  }
 ],
 "metadata": {
  "kernelspec": {
   "display_name": "apr",
   "language": "python",
   "name": "python3"
  },
  "language_info": {
   "codemirror_mode": {
    "name": "ipython",
    "version": 3
   },
   "file_extension": ".py",
   "mimetype": "text/x-python",
   "name": "python",
   "nbconvert_exporter": "python",
   "pygments_lexer": "ipython3",
   "version": "3.9.6"
  },
  "orig_nbformat": 4,
  "vscode": {
   "interpreter": {
    "hash": "6b9b9ffe161502460e96cc99d9ad3a3cd628cb0d5ac97f8d40dd9ddb12c81464"
   }
  }
 },
 "nbformat": 4,
 "nbformat_minor": 2
}
