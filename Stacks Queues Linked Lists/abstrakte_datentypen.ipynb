{
 "cells": [
  {
   "attachments": {},
   "cell_type": "markdown",
   "metadata": {},
   "source": [
    "# Implementation von Bag mittels Dictionary"
   ]
  },
  {
   "cell_type": "code",
   "execution_count": 6,
   "metadata": {},
   "outputs": [],
   "source": [
    "from collections import namedtuple"
   ]
  },
  {
   "cell_type": "code",
   "execution_count": 41,
   "metadata": {},
   "outputs": [],
   "source": [
    "# Funktionale Programmierung\n",
    "Bag = namedtuple('Bag', 'add_one number_of remove_one')\n",
    "\n",
    "def bag_l():\n",
    "    dct = {}\n",
    "    def add_one(element):\n",
    "        dct[element] = dct.get(element, 0) + 1\n",
    "\n",
    "    def remove_one(element):\n",
    "        if dct.get(element, 0) == 0:\n",
    "            pass\n",
    "        else:\n",
    "            dct[element] -= 1\n",
    "\n",
    "    def number_of(element):\n",
    "        return dct.get(element, 0)\n",
    "\n",
    "    return Bag(add_one, number_of, remove_one)"
   ]
  },
  {
   "cell_type": "code",
   "execution_count": 46,
   "metadata": {},
   "outputs": [],
   "source": [
    "b = bag_l()\n",
    "b.add_one('a')\n",
    "b.add_one('b')\n",
    "b.add_one('a')\n",
    "b.remove_one('a')\n",
    "b.add_one('a')\n",
    "assert b.number_of('a') == 2\n",
    "assert b.number_of('b') == 1"
   ]
  },
  {
   "cell_type": "code",
   "execution_count": 48,
   "metadata": {},
   "outputs": [],
   "source": [
    "# Objektorientierte Programmierung\n",
    "class Bag:\n",
    "    def __init__(self):\n",
    "        self.dct = {}\n",
    "\n",
    "    def add_one(self, element):\n",
    "        self.dct[element] = self.dct.get(element, 0) + 1\n",
    "\n",
    "    def remove_one(self, element):\n",
    "        if self.dct.get(element, 0) == 0:\n",
    "            pass\n",
    "        else:\n",
    "            self.dct[element] -= 1\n",
    "\n",
    "    def number_of(self, element):\n",
    "        return self.dct.get(element, 0)"
   ]
  },
  {
   "cell_type": "code",
   "execution_count": 49,
   "metadata": {},
   "outputs": [],
   "source": [
    "b = Bag()\n",
    "b.add_one('a')\n",
    "b.add_one('b')\n",
    "b.add_one('a')\n",
    "b.remove_one('a')\n",
    "b.add_one('a')\n",
    "assert b.number_of('a') == 2\n",
    "assert b.number_of('b') == 1"
   ]
  },
  {
   "cell_type": "code",
   "execution_count": null,
   "metadata": {},
   "outputs": [],
   "source": []
  }
 ],
 "metadata": {
  "kernelspec": {
   "display_name": "apr",
   "language": "python",
   "name": "python3"
  },
  "language_info": {
   "codemirror_mode": {
    "name": "ipython",
    "version": 3
   },
   "file_extension": ".py",
   "mimetype": "text/x-python",
   "name": "python",
   "nbconvert_exporter": "python",
   "pygments_lexer": "ipython3",
   "version": "3.9.6"
  },
  "orig_nbformat": 4,
  "vscode": {
   "interpreter": {
    "hash": "6b9b9ffe161502460e96cc99d9ad3a3cd628cb0d5ac97f8d40dd9ddb12c81464"
   }
  }
 },
 "nbformat": 4,
 "nbformat_minor": 2
}
