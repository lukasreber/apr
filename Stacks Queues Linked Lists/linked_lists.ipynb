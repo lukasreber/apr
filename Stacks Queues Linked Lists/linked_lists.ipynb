{
 "cells": [
  {
   "attachments": {},
   "cell_type": "markdown",
   "metadata": {},
   "source": [
    "# Linked Lists"
   ]
  },
  {
   "cell_type": "code",
   "execution_count": 2,
   "metadata": {},
   "outputs": [],
   "source": [
    "from typing import Any"
   ]
  },
  {
   "cell_type": "code",
   "execution_count": 4,
   "metadata": {},
   "outputs": [],
   "source": [
    "class LinkedList:  # class of objects to represent an entire list\n",
    "    class Node:  # class of objects to represent a node within a list\n",
    "        def __init__(self):  # called upon object creation\n",
    "            self.next = None  # creates instance variables of node object\n",
    "            self.value = None\n",
    "\n",
    "    def __init__(self):\n",
    "        self.size = 0  # creates instance variables of node object\n",
    "        self.first = None\n",
    "\n",
    "def linked_list(lst: list) -> LinkedList:\n",
    "    res = LinkedList()  # create LinkedList object\n",
    "    if len(lst) != 0:  # only if there is at least 1 element in list\n",
    "        n = LinkedList.Node()  # create Node object for first element\n",
    "        n.value = lst[0]  # assign reference to value object\n",
    "        res.first = n  # assign reference to Node\n",
    "        res.size += 1\n",
    "        for v in lst[1:]:  # for remaining elements...\n",
    "            n.next = LinkedList.Node()  # create Node object for next element\n",
    "            n = n.next  # assign reference to new Node to n\n",
    "            n.value = v  # assign reference to value object\n",
    "            res.size += 1\n",
    "    return res\n"
   ]
  },
  {
   "cell_type": "code",
   "execution_count": 3,
   "metadata": {},
   "outputs": [],
   "source": [
    "def get_by_index(lst: LinkedList, index: int) -> Any:\n",
    "    if index < 0 or index >= lst.size:\n",
    "        raise IndexError\n",
    "    n = lst.first\n",
    "    for i in range(index):\n",
    "        n = n.next\n",
    "    return n.value"
   ]
  },
  {
   "cell_type": "code",
   "execution_count": 10,
   "metadata": {},
   "outputs": [],
   "source": [
    "def is_in(lst: LinkedList, element: Any) -> bool:\n",
    "    n = lst.first\n",
    "    while n is not None:\n",
    "        if n.value == element:\n",
    "            return True\n",
    "        n = n.next\n",
    "    return False"
   ]
  },
  {
   "cell_type": "code",
   "execution_count": 5,
   "metadata": {},
   "outputs": [],
   "source": [
    "lst = linked_list(['a', 'b', 'c', 'd', 'e'])"
   ]
  },
  {
   "cell_type": "code",
   "execution_count": 9,
   "metadata": {},
   "outputs": [
    {
     "name": "stdout",
     "output_type": "stream",
     "text": [
      "a\n",
      "b\n",
      "c\n",
      "d\n",
      "e\n"
     ]
    }
   ],
   "source": [
    "n = lst.first\n",
    "while n is not None:\n",
    "    print(n.value)\n",
    "    n = n.next"
   ]
  },
  {
   "cell_type": "code",
   "execution_count": 17,
   "metadata": {},
   "outputs": [],
   "source": [
    "assert is_in(lst, 'g') == False\n",
    "assert is_in(lst, 'c') == True"
   ]
  },
  {
   "cell_type": "code",
   "execution_count": 19,
   "metadata": {},
   "outputs": [],
   "source": [
    "def append(lst: LinkedList, element: Any) -> None:\n",
    "    if lst.size == 0:\n",
    "        lst.first = LinkedList.Node()\n",
    "        lst.first.value = element\n",
    "        lst.size += 1\n",
    "    else:\n",
    "        n = lst.first\n",
    "        while n.next is not None:\n",
    "            n = n.next\n",
    "        n.next = LinkedList.Node()\n",
    "        n.next.value = element\n",
    "        lst.size += 1"
   ]
  },
  {
   "cell_type": "code",
   "execution_count": 20,
   "metadata": {},
   "outputs": [],
   "source": [
    "append(lst, 'f')"
   ]
  },
  {
   "cell_type": "code",
   "execution_count": 21,
   "metadata": {},
   "outputs": [
    {
     "name": "stdout",
     "output_type": "stream",
     "text": [
      "a\n",
      "b\n",
      "c\n",
      "d\n",
      "e\n",
      "f\n"
     ]
    }
   ],
   "source": [
    "n = lst.first\n",
    "while n is not None:\n",
    "    print(n.value)\n",
    "    n = n.next"
   ]
  },
  {
   "cell_type": "code",
   "execution_count": 22,
   "metadata": {},
   "outputs": [],
   "source": [
    "def remove(lst: LinkedList, element: Any) -> None:\n",
    "    if lst.size == 0:\n",
    "        raise ValueError\n",
    "    elif lst.first.value == element:\n",
    "        lst.first = lst.first.next\n",
    "        lst.size -= 1\n",
    "    else:\n",
    "        n = lst.first\n",
    "        while n.next is not None:\n",
    "            if n.next.value == element:\n",
    "                n.next = n.next.next\n",
    "                lst.size -= 1\n",
    "                return\n",
    "            n = n.next\n",
    "        raise ValueError"
   ]
  },
  {
   "cell_type": "code",
   "execution_count": 23,
   "metadata": {},
   "outputs": [],
   "source": [
    "remove(lst, 'c')"
   ]
  },
  {
   "cell_type": "code",
   "execution_count": 24,
   "metadata": {},
   "outputs": [
    {
     "name": "stdout",
     "output_type": "stream",
     "text": [
      "a\n",
      "b\n",
      "d\n",
      "e\n",
      "f\n"
     ]
    }
   ],
   "source": [
    "n = lst.first\n",
    "while n is not None:\n",
    "    print(n.value)\n",
    "    n = n.next"
   ]
  },
  {
   "cell_type": "code",
   "execution_count": null,
   "metadata": {},
   "outputs": [],
   "source": []
  }
 ],
 "metadata": {
  "kernelspec": {
   "display_name": "apr",
   "language": "python",
   "name": "python3"
  },
  "language_info": {
   "codemirror_mode": {
    "name": "ipython",
    "version": 3
   },
   "file_extension": ".py",
   "mimetype": "text/x-python",
   "name": "python",
   "nbconvert_exporter": "python",
   "pygments_lexer": "ipython3",
   "version": "3.9.6"
  },
  "orig_nbformat": 4,
  "vscode": {
   "interpreter": {
    "hash": "6b9b9ffe161502460e96cc99d9ad3a3cd628cb0d5ac97f8d40dd9ddb12c81464"
   }
  }
 },
 "nbformat": 4,
 "nbformat_minor": 2
}
