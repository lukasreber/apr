{
 "cells": [
  {
   "cell_type": "markdown",
   "metadata": {},
   "source": [
    "**Maximum Sub Sequence Problem**\n",
    "\n",
    "Gegeben ist eine Liste welche die z.B. die Kursschwankungen einer Aktie fürht. Um den bestmöglichen Kauf- und Verkaufszeitpunkt zu berechnen, muss also das Maximum aus den Summen, die sich aus allen möglichen Kombinationen von  Start- und End-Indizes ergeben, berechnet werden."
   ]
  },
  {
   "cell_type": "code",
   "execution_count": 31,
   "metadata": {},
   "outputs": [],
   "source": [
    "import random\n",
    "import numpy as np"
   ]
  },
  {
   "cell_type": "code",
   "execution_count": 55,
   "metadata": {},
   "outputs": [],
   "source": [
    "def findmax(l):\n",
    "    res = []\n",
    "    for i in range(len(l)):\n",
    "        for j in range(i,len(l)):\n",
    "            res.append(l[j]-l[i])\n",
    "    return(max(res))"
   ]
  },
  {
   "cell_type": "code",
   "execution_count": 56,
   "metadata": {},
   "outputs": [
    {
     "data": {
      "text/plain": [
       "150"
      ]
     },
     "execution_count": 56,
     "metadata": {},
     "output_type": "execute_result"
    }
   ],
   "source": [
    "# Beispiel aus Aufgabenblatt\n",
    "findmax([31, -41, 59, 26, -53, 58, 97, -93, -23])"
   ]
  },
  {
   "cell_type": "code",
   "execution_count": 58,
   "metadata": {},
   "outputs": [
    {
     "data": {
      "text/plain": [
       "0"
      ]
     },
     "execution_count": 58,
     "metadata": {},
     "output_type": "execute_result"
    }
   ],
   "source": [
    "# Kein Gewinn möglich, da Wert immer abfällt\n",
    "# da wir auch den gewinn berechnen wenn verkauf und zum selben zeitpunkt verkauft wird (was immer 0 ist),\n",
    "# ist dies somit der höchste gewinn\n",
    "findmax([100, 91, 82 , 73, 64, 55, 46, 37, 28, 19])"
   ]
  },
  {
   "cell_type": "code",
   "execution_count": 61,
   "metadata": {},
   "outputs": [
    {
     "data": {
      "text/plain": [
       "3445333"
      ]
     },
     "execution_count": 61,
     "metadata": {},
     "output_type": "execute_result"
    }
   ],
   "source": [
    "findmax([12,24,35,46,57,68,79,984,2345,546456,3445345])"
   ]
  },
  {
   "cell_type": "code",
   "execution_count": 59,
   "metadata": {},
   "outputs": [
    {
     "name": "stdout",
     "output_type": "stream",
     "text": [
      "[-43, -14, 80, 63, 81, 48, 88, 71, -82]\n"
     ]
    },
    {
     "data": {
      "text/plain": [
       "131"
      ]
     },
     "execution_count": 59,
     "metadata": {},
     "output_type": "execute_result"
    }
   ],
   "source": [
    "# diverse beispiele\n",
    "sample = random.sample(range(-100,100),9)\n",
    "print(sample)\n",
    "findmax(sample)"
   ]
  },
  {
   "cell_type": "markdown",
   "metadata": {},
   "source": [
    "**Wie kann man diese Funktion testen?**\n",
    "\n",
    "Verschiedene Listen (grösse der Liste  und Werte) auf die Funktion anwenden. Das Funktion sollte \n",
    "1. Kein Fehler ausgeben\n",
    "2. Die richtige (höchste) Summe wird ausgegeben\n",
    "\n",
    "**Welche Situationen sollte man testen?**\n",
    "\n",
    "- Beliebige Liste\n",
    "- Nur Werte welche immer mehr ins negative gehen\n",
    "- Werte welche immer mehr in positive gehen\n",
    "- Werte die immer gleich bleiben\n",
    "- Liste mit nur 0\n",
    "- Leere Liste\n",
    "\n",
    "\n",
    "**Funktioniert die Funktion in allen Fällen korrekt?**\n",
    "\n",
    "Soweit ja"
   ]
  },
  {
   "cell_type": "code",
   "execution_count": null,
   "metadata": {},
   "outputs": [],
   "source": [
    "# Laufzeit messen"
   ]
  }
 ],
 "metadata": {
  "interpreter": {
   "hash": "6b9b9ffe161502460e96cc99d9ad3a3cd628cb0d5ac97f8d40dd9ddb12c81464"
  },
  "kernelspec": {
   "display_name": "Python 3.8.9 ('apr': venv)",
   "language": "python",
   "name": "python3"
  },
  "language_info": {
   "codemirror_mode": {
    "name": "ipython",
    "version": 3
   },
   "file_extension": ".py",
   "mimetype": "text/x-python",
   "name": "python",
   "nbconvert_exporter": "python",
   "pygments_lexer": "ipython3",
   "version": "3.8.9"
  },
  "orig_nbformat": 4
 },
 "nbformat": 4,
 "nbformat_minor": 2
}
